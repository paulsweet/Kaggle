{
 "cells": [
  {
   "cell_type": "markdown",
   "metadata": {},
   "source": [
    "## Titanic学习第一次小结_20190414"
   ]
  },
  {
   "cell_type": "markdown",
   "metadata": {},
   "source": [
    "1. 整理运用了哪些函数、类、方法来解决了什么问题\n",
    "2. 数据工程的大致流程是怎么样的"
   ]
  },
  {
   "cell_type": "markdown",
   "metadata": {},
   "source": [
    "### 读取数据"
   ]
  },
  {
   "cell_type": "markdown",
   "metadata": {},
   "source": [
    "- 用到os类库:<br>\n",
    "\n",
    "```python\n",
    "import os\n",
    "# 地址的连接\n",
    "os.path.join\n",
    "# 如果没有地址可以建\n",
    "if not os.path.isdir(housing_path):\n",
    "        os.makedirs(housing_path)\n",
    "```\n",
    "- 用到tarfile和urllib\n",
    "\n",
    "```python\n",
    "import tarfile\n",
    "import tarfile\n",
    "from six.moves import urllib\n",
    "\n",
    "urllib.request.urlretrieve(housing_url, tgz_path) #下载tar包\n",
    "housing_tgz = tarfile.open(tgz_path) #打开\n",
    "housing_tgz.extractall(path=housing_path) #解压\n",
    "housing_tgz.close() #关闭\n",
    "```"
   ]
  },
  {
   "cell_type": "markdown",
   "metadata": {},
   "source": [
    "### 数据查看"
   ]
  },
  {
   "cell_type": "markdown",
   "metadata": {},
   "source": [
    "```python\n",
    "df.head()\n",
    "df.info()\n",
    "df.housing[\"ocean_proximity\"].value_counts() #查看分类变量种类\n",
    "df.describe() # 描述统计\n",
    "```\n",
    "- matplotlib!!!<br>\n",
    "   - 看各个变量的分布\n",
    "   - 变量间的相关关系怎么利用建模？"
   ]
  },
  {
   "cell_type": "markdown",
   "metadata": {},
   "source": [
    "### 缺失值填充"
   ]
  },
  {
   "cell_type": "markdown",
   "metadata": {},
   "source": [
    "1. 各列填充方法不同就各自填充\n",
    "2. 如果同类数据类型的填充方法相同，就可以用SimpleImputer在pipeline里去处理\n",
    "3. 在pipeline里，分数值型和分类型"
   ]
  },
  {
   "cell_type": "code",
   "execution_count": null,
   "metadata": {},
   "outputs": [],
   "source": []
  }
 ],
 "metadata": {
  "kernelspec": {
   "display_name": "Python 3",
   "language": "python",
   "name": "python3"
  },
  "language_info": {
   "codemirror_mode": {
    "name": "ipython",
    "version": 3
   },
   "file_extension": ".py",
   "mimetype": "text/x-python",
   "name": "python",
   "nbconvert_exporter": "python",
   "pygments_lexer": "ipython3",
   "version": "3.6.6"
  }
 },
 "nbformat": 4,
 "nbformat_minor": 2
}
