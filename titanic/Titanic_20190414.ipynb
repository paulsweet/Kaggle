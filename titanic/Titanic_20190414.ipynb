{
 "cells": [
  {
   "cell_type": "markdown",
   "metadata": {},
   "source": [
    "## Titanic学习第一次小结_20190414-20190511"
   ]
  },
  {
   "cell_type": "markdown",
   "metadata": {},
   "source": [
    "1. 整理运用了哪些函数、类、方法来解决了什么问题\n",
    "2. 数据工程的大致流程是怎么样的"
   ]
  },
  {
   "cell_type": "markdown",
   "metadata": {},
   "source": [
    "### 读取数据"
   ]
  },
  {
   "cell_type": "markdown",
   "metadata": {},
   "source": [
    "- 用到os类库:<br>\n",
    "\n",
    "```python\n",
    "import os\n",
    "# 地址的连接\n",
    "os.path.join\n",
    "# 如果没有地址可以建\n",
    "if not os.path.isdir(housing_path):\n",
    "        os.makedirs(housing_path)\n",
    "```\n",
    "- 用到tarfile和urllib\n",
    "\n",
    "```python\n",
    "import tarfile\n",
    "import tarfile\n",
    "from six.moves import urllib\n",
    "\n",
    "urllib.request.urlretrieve(housing_url, tgz_path) #下载tar包\n",
    "housing_tgz = tarfile.open(tgz_path) #打开\n",
    "housing_tgz.extractall(path=housing_path) #解压\n",
    "housing_tgz.close() #关闭\n",
    "```"
   ]
  },
  {
   "cell_type": "markdown",
   "metadata": {},
   "source": [
    "### 数据查看"
   ]
  },
  {
   "cell_type": "markdown",
   "metadata": {},
   "source": [
    "```python\n",
    "df.head()\n",
    "df.info()\n",
    "df.housing[\"ocean_proximity\"].value_counts() #查看分类变量种类\n",
    "df.describe() # 描述统计\n",
    "```\n",
    "- matplotlib!!!<br>\n",
    "   - 看各个变量的分布\n",
    "   - 变量间的相关关系怎么利用建模？"
   ]
  },
  {
   "cell_type": "markdown",
   "metadata": {
    "toc-hr-collapsed": false
   },
   "source": [
    "### 缺失值填充/数值数据转换"
   ]
  },
  {
   "cell_type": "markdown",
   "metadata": {},
   "source": [
    "总体思路:将数据分为数值型数据和分类型数据，分别用不同的pipeline去处理，然后再用ColumnTransformer去合并两个pipeline\n",
    "1. 各列填充方法不同就各自填充,在pipeline里，分数值型(SimpleImputer(strategy='median'))和分类型(SimpleImputer(strategy='most_frequent'))\n",
    "2. 数值型：StandardScaler()； 分类型：OneHotEncoder()\n",
    "<br>\n",
    "\n",
    "```python\n",
    "from sklearn.pipeline import Pipeline\n",
    "from sklearn.preprocessing import  StandardScaler,OneHotEncoder\n",
    "from sklearn.compose import ColumnTransformer # Scikit-Learn >= 0.20 \n",
    "from sklearn.impute import SimpleImputer\n",
    "```\n"
   ]
  },
  {
   "cell_type": "markdown",
   "metadata": {},
   "source": [
    "### 自定义转换器"
   ]
  },
  {
   "cell_type": "markdown",
   "metadata": {},
   "source": [
    "```python\n",
    "from sklearn.base import BaseEstimator,TransformerMixin\n",
    "\n",
    "class DataFrameSelector(BaseEstimator,TransformerMixin):\n",
    "    def __init__(self, attribute_names):\n",
    "        self.attribute = attribute_names\n",
    "    def fit(self, X, y = None):\n",
    "        return self\n",
    "    def transform(self,X):\n",
    "        return X[self.attribute].values\n",
    "\n",
    "```"
   ]
  },
  {
   "cell_type": "code",
   "execution_count": null,
   "metadata": {},
   "outputs": [],
   "source": []
  }
 ],
 "metadata": {
  "kernelspec": {
   "display_name": "Python 3",
   "language": "python",
   "name": "python3"
  },
  "language_info": {
   "codemirror_mode": {
    "name": "ipython",
    "version": 3
   },
   "file_extension": ".py",
   "mimetype": "text/x-python",
   "name": "python",
   "nbconvert_exporter": "python",
   "pygments_lexer": "ipython3",
   "version": "3.6.6"
  }
 },
 "nbformat": 4,
 "nbformat_minor": 2
}
