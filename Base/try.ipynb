{
 "cells": [
  {
   "cell_type": "markdown",
   "metadata": {},
   "source": [
    "# try"
   ]
  },
  {
   "cell_type": "markdown",
   "metadata": {},
   "source": [
    "## 1. python 的 try 语句有两种风格：\n",
    " - 处理异常:(try/except/else)\n",
    " - 无论是否发生异常都将执行最后的代码(try/finally)"
   ]
  },
  {
   "cell_type": "markdown",
   "metadata": {},
   "source": [
    "## 2. try 语句子句形式表\n",
    "- except:捕获所有异常\n",
    "- except name:只捕获特定的异常\n",
    "- except name as value: 捕获异常和它的附加数据（将异常的信息保存到value）\n",
    "- except (name1,name2):捕获任何列出的异常\n",
    "- else:如果没有异常\n",
    "- finally:总是执行"
   ]
  },
  {
   "cell_type": "markdown",
   "metadata": {},
   "source": [
    "## 3. 实例"
   ]
  },
  {
   "cell_type": "markdown",
   "metadata": {},
   "source": [
    "### 3.1 try/except/else"
   ]
  },
  {
   "cell_type": "markdown",
   "metadata": {},
   "source": [
    "```python\n",
    "#try/except/else风格\n",
    "try:\n",
    "    pass\n",
    "except <异常名字>： \n",
    "    <语句> #如果在try部份引发了'name'异常\n",
    "except <名字>，<数据>:\n",
    "    <语句> #如果引发了'name'异常，获得附加的数据\n",
    "else:\n",
    "    <语句> #如果没有异常发生\n",
    "\n",
    "#实例：\n",
    "try:\n",
    "    print('xxx')   #如果try的子语句能够实现，则执行这个语句。整个流程走向else，然后控制流通过整个try语句。\n",
    "except:\n",
    "    print('error')\n",
    "else:\n",
    "    print(1)\n",
    "\n",
    "#输出\n",
    ">>>xxx\n",
    ">>>1\n",
    "\n",
    "\n",
    "#如果是 try 的子语句不能执行时，则会执行 except 语句，异常处理完毕，控制流就通过整个try语句；\n",
    "\n",
    "try:\n",
    "    print(xxx)\n",
    "except:\n",
    "    print('error')\n",
    "else:\n",
    "    print(1)\n",
    "    \n",
    "#输出\n",
    "# 执行except就不会执行else\n",
    ">>>error\n",
    "```\n"
   ]
  },
  {
   "cell_type": "markdown",
   "metadata": {},
   "source": [
    "### 3.2 try/finally"
   ]
  },
  {
   "cell_type": "markdown",
   "metadata": {},
   "source": [
    "```python\n",
    "try:\n",
    "    <语句>\n",
    "finally:\n",
    "    <语句> #退出try时总会执行\n",
    "\n",
    "# 实例\n",
    "try:\n",
    "    print(kk)\n",
    "except:\n",
    "    print('error')\n",
    "finally:\n",
    "    print('ok')\n",
    "\n",
    "# 输出\n",
    ">>> error\n",
    ">>> ok #finally的内容是一定会执行的\n",
    "```"
   ]
  },
  {
   "cell_type": "markdown",
   "metadata": {},
   "source": [
    "### 3.3 捕获所有异常：\n",
    "```python\n",
    "try:\n",
    "    xxxx\n",
    "except Exception as e:\n",
    "    print(e)\n",
    "```"
   ]
  },
  {
   "cell_type": "code",
   "execution_count": null,
   "metadata": {},
   "outputs": [],
   "source": []
  }
 ],
 "metadata": {
  "kernelspec": {
   "display_name": "Python 3",
   "language": "python",
   "name": "python3"
  },
  "language_info": {
   "codemirror_mode": {
    "name": "ipython",
    "version": 3
   },
   "file_extension": ".py",
   "mimetype": "text/x-python",
   "name": "python",
   "nbconvert_exporter": "python",
   "pygments_lexer": "ipython3",
   "version": "3.6.6"
  }
 },
 "nbformat": 4,
 "nbformat_minor": 2
}
